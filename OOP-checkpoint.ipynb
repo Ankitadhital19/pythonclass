{
 "cells": [
  {
   "cell_type": "code",
   "execution_count": null,
   "id": "98df75e0",
   "metadata": {},
   "outputs": [],
   "source": [
    "#class object methods \n",
    "# define class python:\n",
    "#     pass\n",
    "\n",
    "# obj = python()\n"
   ]
  },
  {
   "cell_type": "code",
   "execution_count": null,
   "id": "a5f65577",
   "metadata": {},
   "outputs": [],
   "source": [
    "# class <name>:\n",
    "#     <methods>\n",
    "# <name>()"
   ]
  },
  {
   "cell_type": "code",
   "execution_count": 2,
   "id": "ca47b2ed",
   "metadata": {},
   "outputs": [
    {
     "name": "stdout",
     "output_type": "stream",
     "text": [
      "Hello world\n"
     ]
    }
   ],
   "source": [
    "class Hello:    #class defined by capital letters and function by small letters\n",
    "    def hello(self):   #self carrying method\n",
    "        print(\"Hello world\")\n",
    "\n",
    "obj = Hello()\n",
    "obj.hello()"
   ]
  },
  {
   "cell_type": "code",
   "execution_count": 3,
   "id": "5c4d6197",
   "metadata": {},
   "outputs": [
    {
     "name": "stdout",
     "output_type": "stream",
     "text": [
      "Hello world\n"
     ]
    }
   ],
   "source": [
    "class Hello :#class defined by capital letters and function by small letters\n",
    "    @staticmethod\n",
    "    def hello():\n",
    "        print(\"Hello world\")\n",
    "\n",
    "obj = Hello()\n",
    "obj.hello()"
   ]
  },
  {
   "cell_type": "code",
   "execution_count": 7,
   "id": "e9d7f033",
   "metadata": {},
   "outputs": [
    {
     "name": "stdout",
     "output_type": "stream",
     "text": [
      "Enter the value l = 5\n",
      "Enter the value b = 5\n",
      "The area is  25\n"
     ]
    }
   ],
   "source": [
    "class Cal:\n",
    "    def area(self):\n",
    "        l = int(input(\"Enter the value l = \"))\n",
    "        b = int(input(\"Enter the value b = \"))\n",
    "        a = l*b\n",
    "        print(\"The area is \",a)\n",
    "obj = Cal()\n",
    "obj.area()"
   ]
  },
  {
   "cell_type": "code",
   "execution_count": 11,
   "id": "c045c0f8",
   "metadata": {},
   "outputs": [
    {
     "name": "stdout",
     "output_type": "stream",
     "text": [
      "ENter h = 3\n",
      "Enter l = 4\n",
      "Enter b = 5\n",
      "60\n"
     ]
    }
   ],
   "source": [
    "class Cal:\n",
    "    def volume(self,h):\n",
    "        l = int(input(\"Enter l = \"))\n",
    "        b = int(input(\"Enter b = \"))\n",
    "        v = l*b*h\n",
    "        print(v)\n",
    "obj = Cal()\n",
    "h = int(input(\"ENter h = \"))\n",
    "obj.volume(h)"
   ]
  },
  {
   "cell_type": "markdown",
   "id": "22d44703",
   "metadata": {},
   "source": [
    "class Cal:\n",
    "    def volume(pidaulu,h):\n",
    "        l = int(input(\"Enter l = \"))\n",
    "        b = int(input(\"Enter b = \"))\n",
    "        v = l*b*h\n",
    "        print(v)\n",
    "obj = Cal()\n",
    "h = int(input(\"ENter h = \"))\n",
    "obj.volume(h)"
   ]
  },
  {
   "cell_type": "code",
   "execution_count": 12,
   "id": "2b18ca2a",
   "metadata": {},
   "outputs": [
    {
     "name": "stdout",
     "output_type": "stream",
     "text": [
      "ENter h = 44\n",
      "Enter l = 55\n",
      "Enter b = 66\n",
      "159720\n"
     ]
    }
   ],
   "source": [
    "class Cal:\n",
    "    def volume(pidaulu,h):\n",
    "        l = int(input(\"Enter l = \"))\n",
    "        b = int(input(\"Enter b = \"))\n",
    "        v = l*b*h\n",
    "        print(v)\n",
    "obj = Cal()\n",
    "h = int(input(\"ENter h = \"))\n",
    "obj.volume(h)"
   ]
  },
  {
   "cell_type": "code",
   "execution_count": 15,
   "id": "b15624b0",
   "metadata": {},
   "outputs": [
    {
     "name": "stdout",
     "output_type": "stream",
     "text": [
      "Enter l = 33\n",
      "Enter b = 44\n",
      "ENter h = 55\n",
      "79860\n"
     ]
    }
   ],
   "source": [
    "class Cal:\n",
    "    def __init__(self):\n",
    "        self.l = int(input(\"Enter l = \"))\n",
    "        self.b = int(input(\"Enter b = \"))\n",
    "        self.h = int(input(\"ENter h = \"))\n",
    "    def volume(self,h):\n",
    "        v = self.l*self.b*self.h\n",
    "        print(v)\n",
    "obj = Cal()\n",
    "obj.volume(h)"
   ]
  },
  {
   "cell_type": "code",
   "execution_count": 16,
   "id": "b51ec3ad",
   "metadata": {},
   "outputs": [
    {
     "name": "stdout",
     "output_type": "stream",
     "text": [
      "Enter name = ram\n",
      "Enter age = ktm\n",
      "Enter address = 23\n",
      "ram 23\n",
      "Hello World I am ram. I am ktm. I am from 23\n"
     ]
    }
   ],
   "source": [
    "class Info:\n",
    "    def __init__(self):\n",
    "        self.name = input(\"Enter name = \")\n",
    "        self.age = input(\"Enter age = \")\n",
    "        self.add = input(\"Enter address = \")\n",
    "    def data(self):\n",
    "        print(self.name,self.add)\n",
    "    def info(self):\n",
    "        print(f\"Hello World I am {self.name}. I am {self.age}. I am from {self.add}\")\n",
    "        \n",
    "obj = Info()\n",
    "obj.data()\n",
    "obj.info()"
   ]
  },
  {
   "cell_type": "code",
   "execution_count": 19,
   "id": "bd80f934",
   "metadata": {},
   "outputs": [
    {
     "name": "stdout",
     "output_type": "stream",
     "text": [
      "Enter name = Ankita\n",
      "Enter age = 22\n",
      "Enter address = Khairahani 1 jyamire Chitwan\n",
      "Ankita Khairahani 1 jyamire Chitwan\n",
      "Hello World I am Ankita. I am 22. I am from Khairahani 1 jyamire Chitwan\n"
     ]
    }
   ],
   "source": [
    "class Info:\n",
    "    def __init__(self,name,age,add):\n",
    "        self.n = name\n",
    "        self.a = age\n",
    "        self.ad = add\n",
    "    def data(self):\n",
    "        print(self.n,self.ad)\n",
    "    def info(self):\n",
    "        print(f\"Hello World I am {self.n}. I am {self.a}. I am from {self.ad}\")\n",
    "name = input(\"Enter name = \")\n",
    "age = input(\"Enter age = \")\n",
    "add = input(\"Enter address = \")        \n",
    "obj = Info(name,age,add)\n",
    "obj.data()\n",
    "obj.info()"
   ]
  },
  {
   "cell_type": "code",
   "execution_count": 25,
   "id": "1c88d7a9",
   "metadata": {},
   "outputs": [
    {
     "name": "stdout",
     "output_type": "stream",
     "text": [
      "2019\n"
     ]
    }
   ],
   "source": [
    "class Person:\n",
    "    def __init__(self, fname, lname):\n",
    "        self.firstname = fname\n",
    "        self.lastname =  lname\n",
    "\n",
    "    def printname(self):\n",
    "        print(self.firstname, self.lastname)\n",
    "\n",
    "class Student(Person):\n",
    "    def __init__(self, fname, lname):\n",
    "        super().__init__(fname, lname)\n",
    "        self.graduationyear = 2019\n",
    "    \n",
    "x = Student(\"Mike\", \"Olsen\")\n",
    "print(x.graduationyear)\n"
   ]
  },
  {
   "cell_type": "code",
   "execution_count": 31,
   "id": "205229c0",
   "metadata": {},
   "outputs": [
    {
     "name": "stdout",
     "output_type": "stream",
     "text": [
      "Ram Shyam\n"
     ]
    }
   ],
   "source": [
    "class Person:\n",
    "    def __init__(self, fname, lname):\n",
    "        self.firstname = fname\n",
    "        self.lastname = lname\n",
    "\n",
    "    def printname(self):\n",
    "        print(self.firstname, self.lastname)\n",
    "\n",
    "x = Person(\"Ram\",\"Shyam\")\n",
    "x.printname()"
   ]
  },
  {
   "cell_type": "code",
   "execution_count": 1,
   "id": "936d2ca6",
   "metadata": {},
   "outputs": [],
   "source": [
    "#day 20"
   ]
  },
  {
   "cell_type": "code",
   "execution_count": 2,
   "id": "dc0f969f",
   "metadata": {},
   "outputs": [],
   "source": [
    "# class<class_name1>:\n",
    "#     <methods>\n",
    "# class<class_name2>(<class_name1>):\n",
    "#     <methods>\n",
    "# obj = <class_name2>"
   ]
  },
  {
   "cell_type": "code",
   "execution_count": 4,
   "id": "0d34d67f",
   "metadata": {},
   "outputs": [],
   "source": [
    "class A:        #parent class\n",
    "    pass\n",
    "class B(A):     #child class\n",
    "    pass\n",
    "obj = B()"
   ]
  },
  {
   "cell_type": "code",
   "execution_count": 9,
   "id": "a49ce357",
   "metadata": {},
   "outputs": [
    {
     "name": "stdout",
     "output_type": "stream",
     "text": [
      "Hello Everyone! I am Ram. I live in Kathmandu. I am 10\n",
      "Ram 10 Kathmandu\n"
     ]
    }
   ],
   "source": [
    "class Data:\n",
    "    def __init__(self):\n",
    "        self.name = \"Ram\"\n",
    "        self.age = 10\n",
    "        self.add = \"Kathmandu\"\n",
    "    def data(self):\n",
    "        print(self.name,self.age,self.add)\n",
    "class Info(Data):\n",
    "    def info(self):\n",
    "        print(f\"Hello Everyone! I am {self.name}. I live in {self.add}. I am {self.age}\")\n",
    "        \n",
    "\n",
    "obj = Info()\n",
    "obj.info()\n",
    "obj.data()\n",
    "        "
   ]
  },
  {
   "cell_type": "code",
   "execution_count": 13,
   "id": "6e01b60d",
   "metadata": {},
   "outputs": [
    {
     "name": "stdout",
     "output_type": "stream",
     "text": [
      "Enter name = Ankita\n",
      "Enter add = Khairahani 1 jyamire chitwan\n",
      "Enter age = 21\n",
      "Hello Everyone!\n",
      " I am Ankita. I live in Khairahani 1 jyamire chitwan. I am 21\n",
      "Ankita 21 Khairahani 1 jyamire chitwan\n"
     ]
    }
   ],
   "source": [
    "class Data:\n",
    "    def __init__(self,name,age,add):\n",
    "        self.name = name\n",
    "        self.age = age\n",
    "        self.add = add\n",
    "    def data(self):\n",
    "        print(self.name,self.age,self.add)\n",
    "class Info(Data):\n",
    "    def info(self):\n",
    "        print(f\"Hello Everyone!\\n I am {self.name}. I live in {self.add}. I am {self.age}\")\n",
    "        \n",
    "name = input(\"Enter name = \")\n",
    "add = input(\"Enter add = \")\n",
    "age = input(\"Enter age = \")\n",
    "obj = Info(name,age,add)\n",
    "obj.info()\n",
    "obj.data()"
   ]
  },
  {
   "cell_type": "code",
   "execution_count": 14,
   "id": "96f2cc45",
   "metadata": {},
   "outputs": [
    {
     "name": "stdout",
     "output_type": "stream",
     "text": [
      "Enter name = Ankita\n",
      "Enter add = chitwan\n",
      "Enter age = 21\n",
      "Hello Everyone!\n",
      " I am Ankita. I live in chitwan. I am 21\n",
      "chitwan\n"
     ]
    }
   ],
   "source": [
    "class Data:\n",
    "    def __init__(self,add):\n",
    "        self.add = add\n",
    "    def data(self):\n",
    "        print(self.add)\n",
    "class Info(Data):\n",
    "    def __init__(self,name,age,add):\n",
    "        self.name = name\n",
    "        self.age = age\n",
    "        Data.__init__(self,add)\n",
    "    def info(self):\n",
    "        print(f\"Hello Everyone!\\n I am {self.name}. I live in {self.add}. I am {self.age}\")\n",
    "        \n",
    "name = input(\"Enter name = \")\n",
    "add = input(\"Enter add = \")\n",
    "age = input(\"Enter age = \")\n",
    "obj = Info(name,age,add)\n",
    "obj.info()\n",
    "obj.data()"
   ]
  },
  {
   "cell_type": "code",
   "execution_count": 15,
   "id": "ab706965",
   "metadata": {},
   "outputs": [],
   "source": [
    "#multilevel\n",
    "class A:\n",
    "    pass\n",
    "\n",
    "class B:\n",
    "    pass\n",
    "\n",
    "class C(A,B):\n",
    "    pass\n",
    "\n",
    "obj = C()\n"
   ]
  },
  {
   "cell_type": "code",
   "execution_count": 25,
   "id": "83b12157",
   "metadata": {},
   "outputs": [
    {
     "name": "stdout",
     "output_type": "stream",
     "text": [
      "Enter name = Ankita\n",
      "Enter age = 21\n",
      "Enter add = chitwan\n",
      "Hello Everyone!\n",
      " I am Ankita. I live in chitwan. I am 21\n",
      "chitwan\n",
      "21\n"
     ]
    }
   ],
   "source": [
    "class Age:\n",
    "    def __init__(self,age):\n",
    "        self.age = age\n",
    "    def my_age(self):\n",
    "        print(self.age)\n",
    "\n",
    "class Data(Age):\n",
    "    def __init__(self,add,age):\n",
    "        self.add = add\n",
    "        Age.__init__(self,age)\n",
    "    def data(self):\n",
    "        print(self.add)\n",
    "class Info(Data):\n",
    "    def __init__(self,name,add,age):\n",
    "        self.name = name\n",
    "        self.age = age\n",
    "        Data.__init__(self,add,age)\n",
    "    def info(self):\n",
    "        print(f\"Hello Everyone!\\n I am {self.name}. I live in {self.add}. I am {self.age}\")\n",
    "        \n",
    "name = input(\"Enter name = \")\n",
    "add = input(\"Enter age = \")\n",
    "age = input(\"Enter add = \")\n",
    "obj = Info(name,age,add)\n",
    "obj.info()\n",
    "obj.data()\n",
    "obj.my_age()"
   ]
  },
  {
   "cell_type": "code",
   "execution_count": 28,
   "id": "972dd8cb",
   "metadata": {},
   "outputs": [
    {
     "name": "stdout",
     "output_type": "stream",
     "text": [
      "Enter name = Ankita\n",
      "Enter age = 21\n",
      "Enter add = Chitwan\n",
      "Hello Everyone!\n",
      " I am Ankita. I live in Chitwan. I am 21\n",
      "Chitwan\n",
      "21\n"
     ]
    }
   ],
   "source": [
    "class Age:\n",
    "    def __init__(self,age):\n",
    "        self.age = age\n",
    "    def my_age(self):\n",
    "        print(self.age)\n",
    "\n",
    "class Data:\n",
    "    def __init__(self,add):\n",
    "        self.add = add\n",
    "        \n",
    "    def data(self):\n",
    "        print(self.add)\n",
    "class Info(Age,Data):\n",
    "    def __init__(self,name,add,age):\n",
    "        self.name = name\n",
    "        Data.__init__(self,add)\n",
    "        Age.__init__(self,age)\n",
    "    def info(self):\n",
    "        print(f\"Hello Everyone!\\n I am {self.name}. I live in {self.add}. I am {self.age}\")\n",
    "        \n",
    "name = input(\"Enter name = \")\n",
    "add = input(\"Enter age = \")\n",
    "age = input(\"Enter add = \")\n",
    "obj = Info(name,age,add)\n",
    "obj.info()\n",
    "obj.data()\n",
    "obj.my_age()"
   ]
  },
  {
   "cell_type": "code",
   "execution_count": 1,
   "id": "b59279a6",
   "metadata": {},
   "outputs": [
    {
     "ename": "AttributeError",
     "evalue": "'Info' object has no attribute '__name'",
     "output_type": "error",
     "traceback": [
      "\u001b[1;31m---------------------------------------------------------------------------\u001b[0m",
      "\u001b[1;31mAttributeError\u001b[0m                            Traceback (most recent call last)",
      "Cell \u001b[1;32mIn[1], line 8\u001b[0m\n\u001b[0;32m      6\u001b[0m         \u001b[38;5;28mself\u001b[39m\u001b[38;5;241m.\u001b[39madd \u001b[38;5;241m=\u001b[39m \u001b[38;5;124m\"\u001b[39m\u001b[38;5;124mKathmandu\u001b[39m\u001b[38;5;124m\"\u001b[39m\n\u001b[0;32m      7\u001b[0m obj \u001b[38;5;241m=\u001b[39m Info()\n\u001b[1;32m----> 8\u001b[0m \u001b[38;5;28mprint\u001b[39m(obj\u001b[38;5;241m.\u001b[39m__name)\n\u001b[0;32m      9\u001b[0m \u001b[38;5;28mprint\u001b[39m(obj\u001b[38;5;241m.\u001b[39m__age)\n\u001b[0;32m     10\u001b[0m \u001b[38;5;28mprint\u001b[39m(obj\u001b[38;5;241m.\u001b[39m__add)\n",
      "\u001b[1;31mAttributeError\u001b[0m: 'Info' object has no attribute '__name'"
     ]
    }
   ],
   "source": [
    "#private mebers\n",
    "class Info:\n",
    "    def __init__(self):\n",
    "        self.__name = \"Ram\"\n",
    "        self.__age = 34\n",
    "        self.add = \"Kathmandu\"\n",
    "obj = Info()\n",
    "print(obj.__name)\n",
    "print(obj.__age)\n",
    "print(obj.__add)"
   ]
  },
  {
   "cell_type": "code",
   "execution_count": 2,
   "id": "7ac8cfeb",
   "metadata": {},
   "outputs": [
    {
     "name": "stdout",
     "output_type": "stream",
     "text": [
      "Ram\n",
      "34\n",
      "Kathmandu\n"
     ]
    }
   ],
   "source": [
    "#public members\n",
    "class Info:\n",
    "    def __init__(self):\n",
    "        self.name = \"Ram\"\n",
    "        self.age = 34\n",
    "        self.add = \"Kathmandu\"\n",
    "obj = Info()\n",
    "print(obj.name)\n",
    "print(obj.age)\n",
    "print(obj.add)"
   ]
  },
  {
   "cell_type": "code",
   "execution_count": null,
   "id": "7daffeea",
   "metadata": {},
   "outputs": [],
   "source": [
    "class Info:\n",
    "    def __init__(self):\n",
    "        self._name = \"Ram\"\n",
    "        self._age = 34\n",
    "        self.add = \"Kathmandu\"\n",
    "obj = Info()\n",
    "print(obj.name)\n",
    "print(obj.age)\n",
    "print(obj.add)"
   ]
  }
 ],
 "metadata": {
  "kernelspec": {
   "display_name": "Python 3 (ipykernel)",
   "language": "python",
   "name": "python3"
  },
  "language_info": {
   "codemirror_mode": {
    "name": "ipython",
    "version": 3
   },
   "file_extension": ".py",
   "mimetype": "text/x-python",
   "name": "python",
   "nbconvert_exporter": "python",
   "pygments_lexer": "ipython3",
   "version": "3.11.7"
  }
 },
 "nbformat": 4,
 "nbformat_minor": 5
}
